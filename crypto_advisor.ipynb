{
  "nbformat": 4,
  "nbformat_minor": 0,
  "metadata": {
    "colab": {
      "provenance": [],
      "authorship_tag": "ABX9TyOohiTVlGDj+jdSnIyo3QH0",
      "include_colab_link": true
    },
    "kernelspec": {
      "name": "python3",
      "display_name": "Python 3"
    },
    "language_info": {
      "name": "python"
    }
  },
  "cells": [
    {
      "cell_type": "markdown",
      "metadata": {
        "id": "view-in-github",
        "colab_type": "text"
      },
      "source": [
        "<a href=\"https://colab.research.google.com/github/Zamzamke/Cryptobuddy/blob/main/crypto_advisor.ipynb\" target=\"_parent\"><img src=\"https://colab.research.google.com/assets/colab-badge.svg\" alt=\"Open In Colab\"/></a>"
      ]
    },
    {
      "cell_type": "code",
      "execution_count": null,
      "metadata": {
        "id": "iTgjxaRVUsB_"
      },
      "outputs": [],
      "source": []
    },
    {
      "cell_type": "code",
      "source": [
        "print(\" Hi! I’m CryptoSage – your AI-powered crypto sidekick! Let’s find your next smart investment.\")\n"
      ],
      "metadata": {
        "id": "S-R-44DFUto2"
      },
      "execution_count": null,
      "outputs": []
    },
    {
      "cell_type": "code",
      "source": [
        "crypto_db = {\n",
        "    \"Bitcoin\": {\n",
        "        \"price_trend\": \"rising\",\n",
        "        \"market_cap\": \"high\",\n",
        "        \"energy_use\": \"high\",\n",
        "        \"sustainability_score\": 3\n",
        "    },\n",
        "    \"Ethereum\": {\n",
        "        \"price_trend\": \"stable\",\n",
        "        \"market_cap\": \"high\",\n",
        "        \"energy_use\": \"medium\",\n",
        "        \"sustainability_score\": 6\n",
        "    },\n",
        "    \"Cardano\": {\n",
        "        \"price_trend\": \"rising\",\n",
        "        \"market_cap\": \"medium\",\n",
        "        \"energy_use\": \"low\",\n",
        "        \"sustainability_score\": 8\n",
        "    }\n",
        "}\n"
      ],
      "metadata": {
        "id": "qa7-mb9WVGLw"
      },
      "execution_count": null,
      "outputs": []
    },
    {
      "cell_type": "code",
      "source": [
        "def crypto_advisor(user_query):\n",
        "    if \"sustainable\" in user_query.lower():\n",
        "        recommend = max(crypto_db, key=lambda x: crypto_db[x][\"sustainability_score\"])\n",
        "        return f\" Go for {recommend}! It’s eco-friendly and built for long-term sustainability.\"\n",
        "\n",
        "    elif \"trending\" in user_query.lower() or \"rising\" in user_query.lower():\n",
        "        trending_cryptos = [name for name, data in crypto_db.items() if data[\"price_trend\"] == \"rising\"]\n",
        "        return f\" Trending cryptos: {', '.join(trending_cryptos)}.\"\n",
        "\n",
        "    elif \"long-term\" in user_query.lower() or \"growth\" in user_query.lower():\n",
        "        for name, data in crypto_db.items():\n",
        "            if data[\"price_trend\"] == \"rising\" and data[\"market_cap\"] in [\"high\", \"medium\"]:\n",
        "                return f\" {name} looks strong for long-term growth.\"\n",
        "\n",
        "    else:\n",
        "        return \" Sorry, I didn’t get that. Try asking about trending cryptos or sustainable options.\"\n"
      ],
      "metadata": {
        "id": "Q8Th1HAiVPen"
      },
      "execution_count": null,
      "outputs": []
    },
    {
      "cell_type": "code",
      "source": [
        "print(\"Welcome to CryptoSage! Ask me about crypto trends or sustainability advice.\")\n",
        "\n",
        "while True:\n",
        "    user_query = input(\"You: \")\n",
        "    if user_query.lower() in ['exit', 'quit']:\n",
        "        print(\"👋 Goodbye! Happy investing.\")\n",
        "        break\n",
        "    response = crypto_advisor(user_query)\n",
        "    print(\"CryptoSage:\", response)\n"
      ],
      "metadata": {
        "colab": {
          "base_uri": "https://localhost:8080/"
        },
        "id": "YIW1IJEfVT81",
        "outputId": "d143ed26-10c0-4089-dbcf-9a37a1c0e384"
      },
      "execution_count": null,
      "outputs": [
        {
          "output_type": "stream",
          "name": "stdout",
          "text": [
            "Welcome to CryptoSage! Ask me about crypto trends or sustainability advice.\n",
            "You: tell me which crypto is more sustainable\n",
            "CryptoSage: 🌱 Go for Cardano! It’s eco-friendly and built for long-term sustainability.\n",
            "You: what are the emerging crypto tends\n",
            "CryptoSage: 🤔 Sorry, I didn’t get that. Try asking about trending cryptos or sustainable options.\n"
          ]
        }
      ]
    },
    {
      "cell_type": "code",
      "source": [
        "disclaimer = \"\\n Disclaimer: Cryptocurrency investments are risky. Always do your own research!\"\n",
        "response += disclaimer\n"
      ],
      "metadata": {
        "id": "9dwApdUPVmO1"
      },
      "execution_count": null,
      "outputs": []
    }
  ]
}